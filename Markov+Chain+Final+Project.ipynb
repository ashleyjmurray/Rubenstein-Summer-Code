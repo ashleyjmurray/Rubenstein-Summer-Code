{
 "cells": [
  {
   "cell_type": "code",
   "execution_count": 48,
   "metadata": {
    "scrolled": true
   },
   "outputs": [
    {
     "name": "stdout",
     "output_type": "stream",
     "text": [
      "[[ 0.    0.26  0.2   0.    0.25]\n",
      " [ 0.09  0.52  0.    0.    0.  ]\n",
      " [ 0.    0.    0.66  0.    0.  ]\n",
      " [ 0.    0.    0.05  1.    0.  ]\n",
      " [ 0.    0.    0.    0.    0.  ]]\n"
     ]
    }
   ],
   "source": [
    "#Done -- control matrix\n",
    "import numpy as np\n",
    "B = np.matrix([[0,0.26,0.20,0,0.25],[0.09,0.52,0,0,0],[0,0,0.66,0,0],[0,0,0.05,1,0],[0,0,0,0,0]])\n",
    "print(B)"
   ]
  },
  {
   "cell_type": "code",
   "execution_count": 52,
   "metadata": {},
   "outputs": [
    {
     "name": "stdout",
     "output_type": "stream",
     "text": [
      "[[ 0.          0.33333333  0.21978022  0.          1.        ]\n",
      " [ 1.          0.66666667  0.          0.          0.        ]\n",
      " [ 0.          0.          0.72527473  0.          0.        ]\n",
      " [ 0.          0.          0.05494505  1.          0.        ]\n",
      " [ 0.          0.          0.          0.          0.        ]]\n"
     ]
    }
   ],
   "source": [
    "from sklearn.preprocessing import normalize\n",
    "Column_Normalized = normalize(B, norm='l1', axis=0)\n",
    "print(Column_Normalized)"
   ]
  },
  {
   "cell_type": "code",
   "execution_count": 50,
   "metadata": {},
   "outputs": [
    {
     "name": "stdout",
     "output_type": "stream",
     "text": [
      "[[ 0.          0.          0.          0.          0.        ]\n",
      " [ 0.          0.          0.          0.          0.        ]\n",
      " [ 0.          0.          0.          0.          0.        ]\n",
      " [ 0.          0.          0.14705882  1.          0.        ]\n",
      " [ 0.          0.          0.          0.          0.        ]]\n"
     ]
    }
   ],
   "source": [
    "#Finding the invariant distribution of the control matrix.\n",
    "import numpy as np\n",
    "InvariantDis = np.linalg.matrix_power(B,10000)\n",
    "print(InvariantDis)"
   ]
  },
  {
   "cell_type": "code",
   "execution_count": 53,
   "metadata": {},
   "outputs": [
    {
     "name": "stdout",
     "output_type": "stream",
     "text": [
      "[[ 1.    0.59  0.48  0.    0.39]\n",
      " [ 0.    0.27  0.    0.    0.  ]\n",
      " [ 0.    0.    0.    0.    0.  ]\n",
      " [ 0.    0.    0.    1.    0.29]\n",
      " [ 0.    0.    0.    0.    0.14]]\n"
     ]
    }
   ],
   "source": [
    "import numpy as np\n",
    "T = np.matrix([[1,0.59,0.48,0,0.39],[0,0.27,0,0,0],[0,0,0,0,0],[0,0,0,1,0.29],[0,0,0,0,0.14]])\n",
    "print(T)"
   ]
  },
  {
   "cell_type": "code",
   "execution_count": 57,
   "metadata": {},
   "outputs": [
    {
     "name": "stdout",
     "output_type": "stream",
     "text": [
      "[[ 1.          0.68604651  1.          0.          0.47560976]\n",
      " [ 0.          0.31395349  0.          0.          0.        ]\n",
      " [ 0.          0.          0.          0.          0.        ]\n",
      " [ 0.          0.          0.          1.          0.35365854]\n",
      " [ 0.          0.          0.          0.          0.17073171]]\n",
      "[[ 1.    0.69  1.    0.    0.48]\n",
      " [ 0.    0.31  0.    0.    0.  ]\n",
      " [ 0.    0.    0.    0.    0.  ]\n",
      " [ 0.    0.    0.    1.    0.35]\n",
      " [ 0.    0.    0.    0.    0.17]]\n"
     ]
    }
   ],
   "source": [
    "#Normalizing the experimental matrix\n",
    "from sklearn.preprocessing import normalize\n",
    "Column_Normalized = normalize(T, norm='l1', axis=0)\n",
    "print(Column_Normalized)\n",
    "S = np.matrix([[1,0.69,1,0,0.48],[0,0.31,0,0,0],[0,0,0,0,0],[0,0,0,1,0.35],[0,0,0,0,0.17]])\n",
    "print(S)"
   ]
  },
  {
   "cell_type": "code",
   "execution_count": 58,
   "metadata": {},
   "outputs": [
    {
     "name": "stdout",
     "output_type": "stream",
     "text": [
      "[[ 1.          1.          1.          0.          0.57831325]\n",
      " [ 0.          0.          0.          0.          0.        ]\n",
      " [ 0.          0.          0.          0.          0.        ]\n",
      " [ 0.          0.          0.          1.          0.42168675]\n",
      " [ 0.          0.          0.          0.          0.        ]]\n"
     ]
    }
   ],
   "source": [
    "#Finding the invariant distribution of the experimental matrix\n",
    "import numpy as np\n",
    "InvariantDis2 = np.linalg.matrix_power(S,10000)\n",
    "print(InvariantDis2)"
   ]
  },
  {
   "cell_type": "code",
   "execution_count": null,
   "metadata": {
    "collapsed": true
   },
   "outputs": [],
   "source": []
  }
 ],
 "metadata": {
  "kernelspec": {
   "display_name": "Python 3",
   "language": "python",
   "name": "python3"
  },
  "language_info": {
   "codemirror_mode": {
    "name": "ipython",
    "version": 3
   },
   "file_extension": ".py",
   "mimetype": "text/x-python",
   "name": "python",
   "nbconvert_exporter": "python",
   "pygments_lexer": "ipython3",
   "version": "3.6.1"
  }
 },
 "nbformat": 4,
 "nbformat_minor": 2
}
