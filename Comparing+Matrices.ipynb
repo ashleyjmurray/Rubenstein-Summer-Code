{
 "cells": [
  {
   "cell_type": "code",
   "execution_count": 6,
   "metadata": {
    "collapsed": true
   },
   "outputs": [],
   "source": [
    "# Function that tests whether two transition matrices are equal\n",
    "# Null hypothesis: empirical transition matrices arise from the same population\n",
    "# Input: two matrices A, B with transition counts\n",
    "# Output: array with two entries: \n",
    "#         [0]: p-value for null hypothesis (via likelihood ratio test)\n",
    "#         [1]: Vovk-Sellke lower bound on prob(null hypothesis given the data)\n",
    "import warnings\n",
    "import numpy as np\n",
    "from scipy.stats import chi2\n",
    "from sklearn.preprocessing import normalize\n",
    "warnings.filterwarnings(\"ignore\")\n",
    "\n",
    "def compareTransitions(A,B):\n",
    "    # under hyp. trans. matrices are equal\n",
    "    dimH0 = A.shape[0]*(A.shape[0]-1)\n",
    "    C = np.ndarray.flatten(A+B)\n",
    "    C = C[C>0]\n",
    "    Q = np.ndarray.flatten(normalize(A+B, norm='l1', axis=0))\n",
    "    Q = Q[Q>0]  \n",
    "    loglikeH0 = np.inner(C,np.log(Q))\n",
    "    # under hyp. trans. matrices are different\n",
    "    dimH1 = 2*dimH0\n",
    "    CA = np.ndarray.flatten(A)\n",
    "    CA = CA[CA>0]\n",
    "    QA = np.ndarray.flatten(normalize(A, norm='l1', axis=0))\n",
    "    QA = QA[QA>0]\n",
    "    CB = np.ndarray.flatten(B)\n",
    "    CB = CB[CB>0]\n",
    "    QB = np.ndarray.flatten(normalize(B, norm='l1', axis=0))\n",
    "    QB = QB[QB>0]\n",
    "    loglikeH1 = np.inner(CA,np.log(QA))+np.inner(CB,np.log(QB))\n",
    "    # compute test stat, p-value & Vovk-Sellke bound\n",
    "    teststat = -2*(loglikeH0-loglikeH1)\n",
    "    pval = 1-chi2.cdf(teststat,dimH0)\n",
    "    vovk = pval\n",
    "    if pval < np.exp(-1):\n",
    "        bound = -np.exp(1)*pval*np.log(pval)\n",
    "        if pval == 0:\n",
    "            vovk = 0\n",
    "        else:\n",
    "            vovk = 1/(1+1/bound) \n",
    "    res = np.array([pval,vovk])\n",
    "    return res"
   ]
  },
  {
   "cell_type": "code",
   "execution_count": 7,
   "metadata": {},
   "outputs": [
    {
     "name": "stdout",
     "output_type": "stream",
     "text": [
      "[ 0.23497852  0.48053546]\n"
     ]
    }
   ],
   "source": [
    "import numpy as np\n",
    "from sklearn.preprocessing import normalize\n",
    "\n",
    "A = np.matrix([[0.80,0.15,0.09,0.19,0.11],[0.04,0.71,0.05,0.02,0.01],[0.03,0.07,0.82,0.01,0],[0.10,0.07,0,0.76,0.04],[0.03,0.01,0.03,0.03,0.85]])\n",
    "A = normalize(A, norm='l1', axis=0)\n",
    "limA = np.linalg.matrix_power(A,10**4)[:,0]\n",
    "ctA = np.round(np.dot(A,np.diag(limA*706)))\n",
    "\n",
    "B = np.matrix([[0.77,0.18,0.05,0.24,0.20],[0.10,0.75,0.05,0.02,0],[0.01,0.05,0.9,0,0],[0.10,0,0,0.72,0],[0.03,0.02,0,0.02,0.80]])\n",
    "B = normalize(B, norm='l1', axis=0)\n",
    "limB = np.linalg.matrix_power(B,10**4)[:,0]\n",
    "ctB = np.round(np.dot(B,np.diag(limB*308)))\n",
    "\n",
    "res = compareTransitions(ctA,ctB)\n",
    "print(res)"
   ]
  }
 ],
 "metadata": {
  "kernelspec": {
   "display_name": "Python 3",
   "language": "python",
   "name": "python3"
  },
  "language_info": {
   "codemirror_mode": {
    "name": "ipython",
    "version": 3
   },
   "file_extension": ".py",
   "mimetype": "text/x-python",
   "name": "python",
   "nbconvert_exporter": "python",
   "pygments_lexer": "ipython3",
   "version": "3.6.1"
  }
 },
 "nbformat": 4,
 "nbformat_minor": 2
}
