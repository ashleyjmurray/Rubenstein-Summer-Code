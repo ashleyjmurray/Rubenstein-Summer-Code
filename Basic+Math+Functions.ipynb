{
 "cells": [
  {
   "cell_type": "code",
   "execution_count": 5,
   "metadata": {},
   "outputs": [],
   "source": [
    "import numpy as np\n",
    "T = np.matrix([[0.2,0.3,0.1],[0.5,0.6,0.4],[0.3,0.1,0.5]])"
   ]
  },
  {
   "cell_type": "code",
   "execution_count": 3,
   "metadata": {},
   "outputs": [
    {
     "name": "stdout",
     "output_type": "stream",
     "text": [
      "[[ 0.22857143  0.22857143  0.22857143]\n",
      " [ 0.52857143  0.52857143  0.52857143]\n",
      " [ 0.24285714  0.24285714  0.24285714]]\n"
     ]
    }
   ],
   "source": [
    "import numpy as np \n",
    "T = np.matrix([[0.2,0.3,0.1],[0.5,0.6,0.4],[0.3,0.1,0.5]])\n",
    "S = np.linalg.matrix_power(T, 100)\n",
    "print(S)"
   ]
  },
  {
   "cell_type": "code",
   "execution_count": 4,
   "metadata": {},
   "outputs": [
    {
     "name": "stdout",
     "output_type": "stream",
     "text": [
      "[[  7.88860905e-31   0.00000000e+00   0.00000000e+00]\n",
      " [  3.26659308e-22   6.53318624e-23   0.00000000e+00]\n",
      " [  1.00000000e+00   1.00000000e+00   1.00000000e+00]]\n"
     ]
    }
   ],
   "source": [
    "import numpy as np\n",
    "A = np.matrix([[.5,0,0],[.5,.6,0],[0,.4,1]])\n",
    "B = np.linalg.matrix_power(A,100)\n",
    "print(B)"
   ]
  },
  {
   "cell_type": "code",
   "execution_count": 2,
   "metadata": {},
   "outputs": [
    {
     "name": "stdout",
     "output_type": "stream",
     "text": [
      "[[ 0.33333333  0.33333333]\n",
      " [ 0.66666667  0.66666667]]\n"
     ]
    }
   ],
   "source": [
    "import numpy as np\n",
    "A = np.matrix([[.5,.25],[.5, .75]])\n",
    "B = np.linalg.matrix_power(A,100000)\n",
    "print(B)"
   ]
  },
  {
   "cell_type": "code",
   "execution_count": null,
   "metadata": {
    "collapsed": true
   },
   "outputs": [],
   "source": []
  }
 ],
 "metadata": {
  "kernelspec": {
   "display_name": "Python 3",
   "language": "python",
   "name": "python3"
  },
  "language_info": {
   "codemirror_mode": {
    "name": "ipython",
    "version": 3
   },
   "file_extension": ".py",
   "mimetype": "text/x-python",
   "name": "python",
   "nbconvert_exporter": "python",
   "pygments_lexer": "ipython3",
   "version": "3.6.1"
  }
 },
 "nbformat": 4,
 "nbformat_minor": 2
}
